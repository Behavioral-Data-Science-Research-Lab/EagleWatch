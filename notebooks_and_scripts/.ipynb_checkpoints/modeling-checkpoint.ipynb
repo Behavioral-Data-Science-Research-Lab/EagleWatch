{
 "cells": [
  {
   "cell_type": "code",
   "execution_count": 1,
   "id": "b8fdad6c",
   "metadata": {},
   "outputs": [],
   "source": [
    "# System\n",
    "import os\n",
    "from IPython.display import clear_output\n",
    "\n",
    "# Data manipulation\n",
    "import pandas as pd\n",
    "import numpy as np\n",
    "\n",
    "# Data viz\n",
    "import seaborn as sns\n",
    "import matplotlib.pyplot as plt\n",
    "try:\n",
    "    import sweetviz as sv\n",
    "except:\n",
    "    !pip install sweetviz\n",
    "    clear_output()\n",
    "    import sweetviz as sv\n",
    "\n",
    "# Preferences\n",
    "pd.options.display.max_columns = None"
   ]
  },
  {
   "cell_type": "code",
   "execution_count": 2,
   "id": "34815f9b",
   "metadata": {},
   "outputs": [],
   "source": [
    "# Read in the nest data\n",
    "raw_data = pd.read_csv(\"../Data/02_intermediate/concat_data_loc_year.csv\")\n",
    "# all_data = raw_data.copy().drop(['Unnamed: 0'], axis=1)\n",
    "nest_data = raw_data.copy()\n",
    "\n",
    "# Read in the weather data\n",
    "weather_data = pd.read_csv(\"../Data/02_intermediate/FL_WX_Edit.csv\")\n",
    "wx_df = weather_data.copy()\n",
    "\n",
    "# Merge them together\n",
    "all_data = pd.merge(\n",
    "    left=nest_data, \n",
    "    right=wx_df, \n",
    "    left_on=['Station', 'Year'], \n",
    "    right_on=['STATION', 'DATE'], \n",
    "    how='left'\n",
    ")\n",
    "all_data = all_data.drop(['DATE', 'STATION'], axis=1)"
   ]
  },
  {
   "cell_type": "code",
   "execution_count": 3,
   "id": "61b11550",
   "metadata": {},
   "outputs": [],
   "source": [
    "# Bring in population data\n",
    "excel_file = '../Data/02_intermediate/FLcopops_Edit_no_Census.xlsx'\n",
    "all_sheets = pd.read_excel(excel_file, sheet_name=None)\n",
    "combined_df = pd.concat(all_sheets.values(), ignore_index=True)\n",
    "combined_df = combined_df.drop(['PopulationC'], axis=1)\n",
    "combined_df.columns = [\n",
    "    'County', \n",
    "    'Population', \n",
    "    'Unincorporated', \n",
    "    'Prop_Unincorporated', \n",
    "    'Incorporated', \n",
    "    'Prop_Incorporated', \n",
    "    'Year'\n",
    "]\n",
    "\n",
    "# Merge back in with all_data\n",
    "all_data = pd.merge(\n",
    "    left=all_data, \n",
    "    right=combined_df, \n",
    "    left_on=['County', 'Year'], \n",
    "    right_on=['County', 'Year'], \n",
    "    how='left'\n",
    ")"
   ]
  },
  {
   "cell_type": "code",
   "execution_count": 4,
   "id": "ab4b6349",
   "metadata": {},
   "outputs": [],
   "source": [
    "# Clean up the status col\n",
    "all_data['Status'] = all_data['Status'].astype(str)\n",
    "\n",
    "status = []\n",
    "for i in range(len(all_data)):\n",
    "    val = all_data['Status'][i]\n",
    "    if val!=\"nan\":\n",
    "        status.append(val)\n",
    "    elif all_data['Successful'][i]==1:\n",
    "        status.append(\"Successful\")\n",
    "    elif all_data['Perished'][i]==1:\n",
    "        status.append(\"Failed\")\n",
    "    elif all_data['Active'][i]==1:\n",
    "        status.append(\"Inactive\")\n",
    "    else:\n",
    "        status.append(\"Unknown\")\n",
    "\n",
    "all_data['Status'] = status"
   ]
  },
  {
   "cell_type": "code",
   "execution_count": 5,
   "id": "9bfa7260",
   "metadata": {},
   "outputs": [],
   "source": [
    "# CLean up the substrate col\n",
    "sub_dict = {\n",
    "    'tree':'Tree', \n",
    "    'artificial structure':'Artificial Structure',  \n",
    "    'Artificial':'Artificial Structure', \n",
    "    'ArtStruct':'Artificial Structure',\n",
    "    'Art Struct':'Artificial Structure', \n",
    "    'Dead tree':'Dead Tree',  \n",
    "    'Artificial_Structure':'Artificial Structure',\n",
    "    'artificial_Structure':'Artificial Structure', \n",
    "    'Artificial_structure':'Artificial Structure', \n",
    "    ' Tree':'Tree',\n",
    "}\n",
    "all_data['Substrate'] = all_data['Substrate'].replace(sub_dict)"
   ]
  },
  {
   "cell_type": "code",
   "execution_count": 10,
   "id": "6206648f",
   "metadata": {},
   "outputs": [
    {
     "data": {
      "application/vnd.jupyter.widget-view+json": {
       "model_id": "3bf29c98717643dfab4096e77da5c475",
       "version_major": 2,
       "version_minor": 0
      },
      "text/plain": [
       "                                             |      | [  0%]   00:00 -> (? left)"
      ]
     },
     "metadata": {},
     "output_type": "display_data"
    },
    {
     "name": "stdout",
     "output_type": "stream",
     "text": [
      "Report SWEETVIZ_REPORT.html was generated! NOTEBOOK/COLAB USERS: the web browser MAY not pop up, regardless, the report IS saved in your notebook/colab files.\n"
     ]
    }
   ],
   "source": [
    "# Use sweet_viz for a quick EDA\n",
    "report = sv.analyze(all_data)\n",
    "report.show_html()"
   ]
  },
  {
   "cell_type": "code",
   "execution_count": null,
   "id": "235e8158",
   "metadata": {},
   "outputs": [],
   "source": [
    "# Drop cols due to "
   ]
  }
 ],
 "metadata": {
  "kernelspec": {
   "display_name": "Python 3 (ipykernel)",
   "language": "python",
   "name": "python3"
  },
  "language_info": {
   "codemirror_mode": {
    "name": "ipython",
    "version": 3
   },
   "file_extension": ".py",
   "mimetype": "text/x-python",
   "name": "python",
   "nbconvert_exporter": "python",
   "pygments_lexer": "ipython3",
   "version": "3.9.7"
  }
 },
 "nbformat": 4,
 "nbformat_minor": 5
}
